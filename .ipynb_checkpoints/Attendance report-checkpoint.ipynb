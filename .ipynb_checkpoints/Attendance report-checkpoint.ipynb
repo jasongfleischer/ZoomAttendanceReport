{
 "cells": [
  {
   "cell_type": "markdown",
   "metadata": {},
   "source": [
    "# Analyse class attendance via Zoom report\n",
    "\n",
    "Here's how to use this notebook:\n",
    "\n",
    "![How to use this notebook](using_att_report.png)\n",
    "\n",
    "For instance in the class I built this for, there's a subdirectory under this notebook which has the following files\n",
    "\n",
    "![Example of how to organize files](organizing_files.png)\n",
    "\n",
    "-----"
   ]
  },
  {
   "cell_type": "code",
   "execution_count": null,
   "metadata": {},
   "outputs": [],
   "source": [
    "import matplotlib.pyplot as plt\n",
    "%matplotlib inline\n",
    "%config InlineBackend.figure_format='retina'\n",
    "\n",
    "import seaborn as sns\n",
    "sns.set_style('white')\n",
    "\n",
    "import pandas as pd\n",
    "import glob\n",
    "import sys\n",
    "\n",
    "def load_data(path):\n",
    "    ''' loads all csv data in path, \n",
    "        assumes files naming format is 'zoomus_meeting_report_section_year_month_day.csv' '''     \n",
    "    if path[-1]!='/':    # make sure path has a trailing slash\n",
    "        path = path + '/'        \n",
    "    files = glob.glob(path+'*.csv') # gets all .csv filenames in directory \n",
    "    if not files: \n",
    "        print('Oops! No csv files in ' + path)\n",
    "        raise OSError\n",
    "    else:\n",
    "        dfs = []\n",
    "        for afile in files:\n",
    "            section = afile.split('_')[3]\n",
    "            date =  pd.Timestamp( '-'.join( afile.split('_')[4:] ).split('.')[0] )\n",
    "            # print(section,date)\n",
    "            data = pd.read_csv(afile)\n",
    "            \n",
    "            # If uses 'User Name' and 'User Email' drop User\n",
    "            if 'User Name' in data.columns:\n",
    "                data.rename(columns={'User Name': 'Name'}, inplace=True)\n",
    "            if 'User Email' in data.columns:\n",
    "                data.rename(columns={'User Email': 'Email'}, inplace=True)\n",
    "                \n",
    "            # If uses lower 'time' correct to upper\n",
    "            if 'Join time' in data.columns:\n",
    "                data.rename(columns={'Join time': 'Join Time'}, inplace=True)\n",
    "            if 'Leave time' in data.columns:\n",
    "                data.rename(columns={'Leave time': 'Leave Time'}, inplace=True)\n",
    "            \n",
    "            data['Section'] = section\n",
    "            data['Date'] = date\n",
    "            data = data.set_index(['Date','Section','Name'])\n",
    "            dfs.append( data )   \n",
    "        results = pd.concat(dfs).sort_index()\n",
    "        print('Found {} csv files covering {} sections over {} dates in {}'.format(\n",
    "            len(files), len(results.reset_index().Section.unique()),\n",
    "            len(results.reset_index().Date.unique()), path ))\n",
    "        return results\n",
    "\n",
    "def ind_att(df):\n",
    "    ''' when students join-then-leave-then-rejoin they get multiple entries in the attendance report \n",
    "        this fct is meant to be called on data grouped by Name (plus other vars if desired) and it\n",
    "        combines the different lines into a single description of the attendance for the student '''\n",
    "    datadict={}\n",
    "    datadict['Email'] = df['Email'].iloc[0] # doesn't matter which, all should be same\n",
    "    datadict['Join Time'] = df['Join Time'].min() # first time they arrive\n",
    "    datadict['Leave Time'] = df['Leave Time'].max() # last time they left\n",
    "    datadict['Duration(Minutes)'] = df['Duration(Minutes)'].sum() # total of all visits\n",
    "    # this is how many times the student left and reentered. \n",
    "    # maybe use this to figure out which students have bad connections that may hurt their work?  \n",
    "    datadict['In-n-outs'] = df['Duration(Minutes)'].count()  \n",
    "    return pd.DataFrame(datadict,index=df.reset_index().Name).drop_duplicates()\n",
    "\n",
    "def individual_attendance(df):\n",
    "    ''' calls ind_att to get the work done, handles dataframe cleanup\n",
    "        the droplevel is because att_report ends up duplicating Name into the index a 2nd time '''\n",
    "    return ( df\n",
    "            .groupby(['Date','Section','Name'])\n",
    "            .apply(ind_att)\n",
    "            .droplevel(-1) )\n",
    "    \n",
    "def section_attendance_report(df):\n",
    "    '''reports how many people were in each section on each date'''\n",
    "    return ( individual_attendance(df)\n",
    "            .groupby([ 'Date','Section'])\n",
    "            .count()['Join Time'] # join time is never NA, use it for counting\n",
    "            .rename('Attendees')\n",
    "            .to_frame() )\n",
    "    \n",
    "def individual_date_attendance_report(df):\n",
    "    '''reports how many dates someone attended; \n",
    "    UPDATED: if they do more than 1 section per day (like a TA) they will now only show up once\n",
    "    since we dont want to give attendance extra credit for someone who goes to every section 1 week ;) '''\n",
    "    return ( individual_attendance(df)\n",
    "            .groupby(['Name','Date'])\n",
    "            .count()['Join Time'] # join time is never NA, use it for counting\n",
    "            .rename('Attendances')\n",
    "            # we don't care how many sections each day someone went to\n",
    "            # we just want how many days they attended at least one section; collapse all non-zero to 1\n",
    "            .apply( lambda x: 1)\n",
    "            .groupby(['Name']) # now lets count up all the days they were there\n",
    "            .count()\n",
    "            .rename('Dates attended')\n",
    "            .to_frame() )"
   ]
  },
  {
   "cell_type": "code",
   "execution_count": null,
   "metadata": {
    "scrolled": true
   },
   "outputs": [],
   "source": [
    "# if you organized your directory differently, you should change 'Attendance/' to the correct directory location\n",
    "\n",
    "attendance = load_data('Attendance/')\n",
    "\n",
    "attendance\n",
    "\n",
    "# NB: I've obfuscated the student information so that I can distribute this notebook to others\n",
    "# without compromising student privacy\n",
    "# when you do this you will see the full name and email as the students entered it into Zoom"
   ]
  },
  {
   "cell_type": "code",
   "execution_count": null,
   "metadata": {},
   "outputs": [],
   "source": [
    "sections = section_attendance_report(attendance)\n",
    "sections"
   ]
  },
  {
   "cell_type": "code",
   "execution_count": null,
   "metadata": {},
   "outputs": [],
   "source": [
    "sections.hist();\n",
    "plt.xlabel('Attendees in a section')\n",
    "plt.ylabel('# of sections')\n",
    "plt.title('Histogram of sections with a given level of attendance');"
   ]
  },
  {
   "cell_type": "code",
   "execution_count": null,
   "metadata": {},
   "outputs": [],
   "source": [
    "sns.lineplot( data=sections.reset_index(),\n",
    "             x='Date',y='Attendees', hue='Section')\n",
    "plt.title('Attendance over time in each section');\n"
   ]
  },
  {
   "cell_type": "code",
   "execution_count": null,
   "metadata": {},
   "outputs": [],
   "source": [
    "# this generates a report on how many dates somone attended discussion sections\n",
    "\n",
    "individuals = individual_date_attendance_report(attendance)\n",
    "individuals"
   ]
  },
  {
   "cell_type": "code",
   "execution_count": null,
   "metadata": {},
   "outputs": [],
   "source": [
    "# if you wanted to write out the attendance report to look at it inside Excel or something you can\n",
    "individuals.to_excel('dates_attended.xlsx')"
   ]
  },
  {
   "cell_type": "code",
   "execution_count": null,
   "metadata": {},
   "outputs": [],
   "source": [
    "# this is how you could check who was there just for section A03 on Jan 13th\n",
    "results = individual_attendance(attendance.loc['2020-01-13','A03',slice(None)])\n",
    "results"
   ]
  }
 ],
 "metadata": {
  "kernelspec": {
   "display_name": "Python 3",
   "language": "python",
   "name": "python3"
  },
  "language_info": {
   "codemirror_mode": {
    "name": "ipython",
    "version": 3
   },
   "file_extension": ".py",
   "mimetype": "text/x-python",
   "name": "python",
   "nbconvert_exporter": "python",
   "pygments_lexer": "ipython3",
   "version": "3.8.5"
  }
 },
 "nbformat": 4,
 "nbformat_minor": 4
}
